{
 "cells": [
  {
   "cell_type": "code",
   "execution_count": null,
   "metadata": {
    "collapsed": true
   },
   "outputs": [],
   "source": [
    "# -*- coding: cp1252 -*-\n",
    "import string, xlrd, nltk, unicodedata, pickle, re, time, random, difflib\n",
    "\n",
    "start = time.time()\n",
    "f = open('artikler', 'r')\n",
    "artikler = pickle.load(f)\n",
    "f.close()\n",
    "\n",
    "semidubletter = []\n",
    "i = 0\n",
    "while i < len(artikler):\n",
    "    semi_dub_set = [0, []]\n",
    "    j = len(artikler)-1\n",
    "    if i % 10 == 0:\n",
    "        print (i),\n",
    "    while j > i:\n",
    "        if difflib.SequenceMatcher(None, artikler[i].tekst, artikler[j].tekst).ratio() > 0.75:\n",
    "            semi_dub_set[0] = artikler[i]\n",
    "            semi_dub_set[1].append(artikler[j])\n",
    "            artikler.remove(artikler[j])\n",
    "        j -= 1\n",
    "    if semi_dub_set != [0, []]:\n",
    "        semidubletter.append(semi_dub_set)\n",
    "    i += 1\n",
    "end = time.time()\n",
    "print (\"Væk med semidubletter:\", end-start)\n",
    "\n",
    "f = open(\"semidubletter\", \"wb\") # gem semidubletter i en fil\n",
    "pickle.dump(semidubletter, f)\n",
    "f.close()\n",
    "\n",
    "f = open(\"artikler_USD\", \"wb\") # gem artikler uden semi-dubletter i en fil\n",
    "pickle.dump(artikler, f)\n",
    "f.close()\n"
   ]
  }
 ],
 "metadata": {
  "kernelspec": {
   "display_name": "Python 3",
   "language": "python",
   "name": "python3"
  },
  "language_info": {
   "codemirror_mode": {
    "name": "ipython",
    "version": 3
   },
   "file_extension": ".py",
   "mimetype": "text/x-python",
   "name": "python",
   "nbconvert_exporter": "python",
   "pygments_lexer": "ipython3",
   "version": "3.5.1"
  }
 },
 "nbformat": 4,
 "nbformat_minor": 0
}
